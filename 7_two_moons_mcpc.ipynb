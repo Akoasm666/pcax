{
 "cells": [
  {
   "cell_type": "markdown",
   "metadata": {},
   "source": [
    "# Tutorial #6: Monte Carlo Predictive Coding\n",
    "\n",
    "In this notebook we will see how to create and train a simple MCPC model to learn a Gaussian data distribution."
   ]
  },
  {
   "cell_type": "code",
   "execution_count": 87,
   "metadata": {},
   "outputs": [],
   "source": [
    "from typing import Callable\n",
    "\n",
    "# These are the default import names used in tutorials and documentation.\n",
    "import jax\n",
    "import jax.tree_util as jtu\n",
    "import jax.numpy as jnp\n",
    "import equinox as eqx\n",
    "\n",
    "import pcax as px\n",
    "import pcax.predictive_coding as pxc\n",
    "import pcax.nn as pxnn\n",
    "import pcax.functional as pxf\n",
    "import pcax.utils as pxu\n",
    "\n",
    "# px.RKG is the default key generator used in pcax, which is used as default\n",
    "# source of randomness within pcax. Here we set its seed to 0 for more reproducibility.\n",
    "# By default it is initialised with the system time.\n",
    "px.RKG.seed(0)"
   ]
  },
  {
   "cell_type": "code",
   "execution_count": 88,
   "metadata": {},
   "outputs": [],
   "source": [
    "# We create our model, which inherits from pxc.EnergyModule, so to have access to the notion\n",
    "# energy. The constructor takes in input all the hyperparameters of the model. Being static\n",
    "# values, if we intend to save them withing the model we must wrap them into a 'StaticParam'.\n",
    "class Model(pxc.EnergyModule):\n",
    "    def __init__(\n",
    "        self,\n",
    "        input_dim: int,\n",
    "        hidden_dim: int,\n",
    "        output_dim: int,\n",
    "        nm_layers: int,\n",
    "        act_fn: Callable[[jax.Array], jax.Array]\n",
    "    ) -> None:\n",
    "        super().__init__()\n",
    "\n",
    "        self.act_fn = px.static(act_fn)\n",
    "        \n",
    "        self.layers = [pxnn.Linear(input_dim, hidden_dim)] + [\n",
    "            pxnn.Linear(hidden_dim, hidden_dim, bias=False) for _ in range(nm_layers - 2)\n",
    "        ] + [pxnn.Linear(hidden_dim, output_dim, bias=False)]\n",
    "\n",
    "        # the default ruleset for a Vode is: `{\"STATUS.INIT\": (\"h, u <- u\",),}` which means:\n",
    "        # \"if the status is set to 'STATUS.INIT', everytime I set 'u', save that value not only\n",
    "        # in 'u', but also in 'x', which is exactly the behvaiour of a forward pass.\n",
    "        # By default if not specified, the behaviour is '* <- *', i.e., save everything passed\n",
    "        # to the vode via __call__ (remember vode(a) equals to vode.set(\"u\", a)).\n",
    "        #\n",
    "        # Since we are doing classification, we replace the last energy with the equivalent of\n",
    "        # cross entropy loss for predictive coding.\n",
    "        self.vodes = [\n",
    "            pxc.Vode((hidden_dim,)) for _ in range(nm_layers)\n",
    "        ]\n",
    "        \n",
    "        # 'frozen' is not a magic word, we define it here and use it later to distinguish between\n",
    "        # vodes we want to differentiate or not.\n",
    "        # NOTE: any attribute of a Param (except its value) is treated automatically as static,\n",
    "        # no need to specify it (but it's possible if you like more consistency,\n",
    "        # i.e., ...frozen = px.static(True)).\n",
    "        self.vodes[-1].h.frozen = True\n",
    "\n",
    "    def __call__(self, x, y):\n",
    "        for v, l in zip(self.vodes[:-1], self.layers[:-1]):\n",
    "            # remember 'x = v(a)' corresponds to v.set(\"u\", a); x = v.get(\"x\")\n",
    "            #\n",
    "            # note that 'self.act_fn' is a StaticParam, so to access it we would have to do\n",
    "            # self.act_fn.get()(...), however, all standard methods such as __call__ and\n",
    "            # __getitem__ are overloaded such that 'self.act_fn.__***__' becomes\n",
    "            # 'self.act_fn.get().__***__'\n",
    "            x = v(self.act_fn(l(x)))\n",
    "\n",
    "        x = self.vodes[-1](self.layers[-1](x))\n",
    "\n",
    "        if y is not None:\n",
    "            # if the target label is provided (e.g., during training), we save it to the last\n",
    "            # vode. Given that the 'froze' it, its value will not be upadated during inference,\n",
    "            # so we need to fix it only once for each new sample, usually during the init step.\n",
    "            self.vodes[-1].set(\"h\", y)\n",
    "\n",
    "        # at least with this architecture, the input activation of the last vode is the actual\n",
    "        # output of the model ('h' is fixed to the label during training or 'h = u' during eval)\n",
    "        return self.vodes[-1].get(\"u\")"
   ]
  },
  {
   "cell_type": "code",
   "execution_count": 89,
   "metadata": {},
   "outputs": [],
   "source": [
    "# vmap is used to specify the batch dimension of the input data. Remember jax doesn't handle it\n",
    "# implicitly but relies on the user to explicitly tell it over which dimension to parallelise the\n",
    "# computation. That is, we always define a computational graph on a single sample, and then batch\n",
    "# the computation over the given mini-batch. We use the jax syntax for in_axes, out_axes, axis_name,\n",
    "# and the introduce a new parameter, kwargs_mask, to specify the batch information over the kwargs\n",
    "# (which, just as a reminder, have the property of being automatically tracked by pcax).\n",
    "# pxu.utils.mask has an in-depth explanation about how masking work. Here, we simply use the Mask\n",
    "# object, which, in this case, replaces every parameter that matches any of the given types with '0',\n",
    "# meaning that their value is batched over the 0th dimension (which is the case for the vode values\n",
    "# and caches), and with 'None' the non matching ones (such as the weights, which are shared across\n",
    "# different samples).\n",
    "# Both positional input arguments and output are batched over the 0th dimension, so we specify it.\n",
    "@pxf.vmap(pxu.Mask(pxc.VodeParam | pxc.VodeParam.Cache, (None, 0)), in_axes=(0, 0), out_axes=0)\n",
    "def forward(x, y, *, model: Model):\n",
    "    return model(x, y)\n",
    "\n",
    "# Similarly here, we specify 'out_axes=(None, 0)' since the function returns two values, the first\n",
    "# a single float storing the total energy of the model (not batched, but summed over the batch\n",
    "# dimension; this is a requirement of the gradient transformation, which jax requires taking a\n",
    "# scalar function in input and so a single scalar output). To follow on this, 'axis_name' is specified\n",
    "# so that we can return the sum over the batch dimension as required (this is standard jax syntax).\n",
    "@pxf.vmap(pxu.Mask(pxc.VodeParam | pxc.VodeParam.Cache, (None, 0)), in_axes=(0,), out_axes=(None, 0), axis_name=\"batch\")\n",
    "def energy(x, *, model: Model):\n",
    "    y_ = model(x, None)\n",
    "    return jax.lax.psum(model.energy().sum(), \"batch\"), y_"
   ]
  },
  {
   "cell_type": "code",
   "execution_count": 90,
   "metadata": {},
   "outputs": [],
   "source": [
    "# JIT is Just In Time compilation, which effectively compiles our code for fast CPU/GPU executioning\n",
    "# removing all python overhead.\n",
    "# 'T' is an hyperparameter that determines the number of inferences steps (and therefore the computational flow).\n",
    "# A such, it must be a static value. We can either specify it using 'static_argnums' (which however is only available\n",
    "# when using 'jit'), or pass it as a static parameter, in which case we would to 'train_on_batch(px.static(T), ...)'.\n",
    "#\n",
    "# Remember that pcax distinguishes between positional and keyword arguments, tracking only the parameters in latter ones.\n",
    "# Since we don't care about tracking of 'x' and 'y', we pass them as simple jax.Arrays as positional arguments. On the\n",
    "# other hand, both the model and the optimizers, may have parameters that are going to change and we want to track, so\n",
    "# we pass them as keyword arguments.\n",
    "@pxf.jit(static_argnums=0)\n",
    "def train_on_batch(\n",
    "    T: int,\n",
    "    x: jax.Array,\n",
    "    y: jax.Array,\n",
    "    *,\n",
    "    model: Model,\n",
    "    optim_w: pxu.Optim,\n",
    "    optim_h: pxu.Optim\n",
    "):\n",
    "    def h_step(i, x, *, model, optim_h):\n",
    "        with pxu.step(model, clear_params=pxc.VodeParam.Cache):\n",
    "            (e, y_), g = pxf.value_and_grad(\n",
    "                pxu.Mask(pxu.m(pxc.VodeParam).has_not(frozen=True), [False, True]),\n",
    "                has_aux=True\n",
    "            )(energy)(x, model=model)\n",
    "        optim_h.step(model, g[\"model\"])\n",
    "        return x, None\n",
    "\n",
    "    print(\"Training!\")  # this will come in handy later\n",
    "    # This only sets an internal flag to be \"train\" (instead of \"eval\")\n",
    "    model.train()\n",
    "    \n",
    "    # Init step\n",
    "    with pxu.step(model, pxc.STATUS.INIT, clear_params=pxc.VodeParam.Cache):\n",
    "        forward(x, y, model=model)\n",
    "    \n",
    "    # Inference steps\n",
    "    pxf.scan(h_step, xs=jax.numpy.arange(T))(x, model=model, optim_h=optim_h)\n",
    "\n",
    "    # Learning step\n",
    "    with pxu.step(model, clear_params=pxc.VodeParam.Cache):\n",
    "        (e, y_), g = pxf.value_and_grad(pxu.Mask(pxnn.LayerParam, [False, True]), has_aux=True)(energy)(x, model=model)\n",
    "    optim_w.step(model, g[\"model\"])\n",
    "\n",
    "from tqdm import tqdm\n",
    "# Standard training loop\n",
    "def train(dl, T, *, model: Model, optim_w: pxu.Optim, optim_h: pxu.Optim):\n",
    "    model.vodes[-1].h.frozen = True\n",
    "    for x, y in tqdm(dl):\n",
    "        train_on_batch(T, x, y, model=model, optim_w=optim_w, optim_h=optim_h)"
   ]
  },
  {
   "cell_type": "code",
   "execution_count": 91,
   "metadata": {},
   "outputs": [],
   "source": [
    "import numpy as np\n",
    "from scipy.stats import wasserstein_distance\n",
    "\n",
    "@pxf.jit(static_argnums=0)\n",
    "def eval_on_batch(\n",
    "    T: int,\n",
    "    x: jax.Array, \n",
    "    *, \n",
    "    model: Model,\n",
    "    optim_h: pxu.Optim\n",
    "    ):\n",
    "    def h_step(i, x, *, model, optim_h):\n",
    "        with pxu.step(model, clear_params=pxc.VodeParam.Cache):\n",
    "            (e, y_), g = pxf.value_and_grad(\n",
    "                pxu.Mask(pxu.m(pxc.VodeParam).has_not(frozen=True), [False, True]),\n",
    "                has_aux=True\n",
    "            )(energy)(x, model=model)\n",
    "        optim_h.step(model, g[\"model\"])\n",
    "        return x, None\n",
    "\n",
    "    print(\"Evaluation!\")  \n",
    "    model.train()\n",
    "\n",
    "    if model.vodes[-1].h.frozen:\n",
    "        print(\"vode[-1] should not be frozen! set frozen=False before calling eval function.\")\n",
    "\n",
    "    # Init step\n",
    "    with pxu.step(model, pxc.STATUS.INIT, clear_params=pxc.VodeParam.Cache):\n",
    "        forward(x, None, model=model)\n",
    "    \n",
    "    # Inference steps\n",
    "    x, y_ = pxf.scan(h_step, xs=jax.numpy.arange(T))(x, model=model, optim_h=optim_h)\n",
    "\n",
    "\n",
    "# MCPC evaluation loop for 1D data\n",
    "def eval(dl, T, *, model: Model, optim_h: pxu.Optim):\n",
    "    model.vodes[-1].h.frozen = False\n",
    "    ys = []\n",
    "    ys_ = []\n",
    "    \n",
    "    for x, y in dl:\n",
    "        eval_on_batch(T, x, model=model, optim_h=optim_h)\n",
    "        ys.append(y)\n",
    "        ys_.append(model.vodes[-1].get(\"h\"))\n",
    "\n",
    "    ys = np.concatenate(ys, axis=0)\n",
    "    ys_ = np.concatenate(ys_, axis=0)\n",
    "\n",
    "    return wasserstein_distance(ys.squeeze(), ys_.squeeze()), ys_"
   ]
  },
  {
   "cell_type": "code",
   "execution_count": 92,
   "metadata": {},
   "outputs": [],
   "source": [
    "import optax\n",
    "\n",
    "batch_size = 32\n",
    "\n",
    "model = Model(\n",
    "    input_dim=1,\n",
    "    hidden_dim=1,\n",
    "    output_dim=1,\n",
    "    nm_layers=2,\n",
    "    act_fn= lambda x:x\n",
    ")"
   ]
  },
  {
   "cell_type": "code",
   "execution_count": 93,
   "metadata": {},
   "outputs": [],
   "source": [
    "h_optimiser_fn = optax.noisy_sgd\n",
    "lr = 1e-2\n",
    "eta = 2/lr\n",
    "gamma = 0\n",
    "lr_p = 1e-3\n",
    "\n",
    "# only thing to note here is how optimizers are created. In particular,\n",
    "# we first want all the parameters of the model to exist, so that the optimizers\n",
    "# can capture them for optimization. This requires performing a dummy forward pass.\n",
    "# Note that the batch_size is an hyperparameter of the model and determines, among\n",
    "# other things, the shape of the Vode parameters, and thus must be kept as much\n",
    "# constant as possible (each change would trigger ricompilation of the jitted functions).\n",
    "with pxu.step(model, pxc.STATUS.INIT, clear_params=pxc.VodeParam.Cache):\n",
    "    forward(jax.numpy.zeros((batch_size, 1)), None, model=model)\n",
    "    \n",
    "    # 'pxu.Optim' accepts a optax optimizer and the parameters pytree in input. pxu.Mask\n",
    "    # can be used to partition between target parameters and not: when no 'map_to' is\n",
    "    # provided, such as here, it acts as 'eqx.partition', using pxc.VodeParam as filter.\n",
    "    optim_h = pxu.Optim(h_optimiser_fn(lr, eta, gamma), pxu.Mask(pxc.VodeParam)(model))\n",
    "    optim_w = pxu.Optim(optax.adam(lr_p), pxu.Mask(pxnn.LayerParam)(model))"
   ]
  },
  {
   "cell_type": "code",
   "execution_count": 94,
   "metadata": {},
   "outputs": [
    {
     "data": {
      "image/png": "[encoded data removed]",
      "text/plain": [
       "<Figure size 640x480 with 1 Axes>"
      ]
     },
     "metadata": {},
     "output_type": "display_data"
    }
   ],
   "source": [
    "import matplotlib.pyplot as plt\n",
    "import numpy as np\n",
    "# generate Gaussian data\n",
    "\n",
    "mean = 1\n",
    "var = 5\n",
    "\n",
    "nm_elements = 10240\n",
    "X = np.zeros((batch_size * (nm_elements // batch_size), 1))\n",
    "y = np.random.randn(batch_size * (nm_elements // batch_size)).reshape(-1,1) * np.sqrt(var) + mean\n",
    "\n",
    "nm_elements_test = 1024\n",
    "X_test = np.zeros((batch_size * (nm_elements_test // batch_size), 1))\n",
    "y_test = np.random.randn(batch_size * (nm_elements // batch_size)).reshape(-1,1) * np.sqrt(var) + mean\n",
    "\n",
    "plt.hist(y, alpha = 0.5, density=True)\n",
    "plt.hist(y_test, alpha = 0.5, density=True);"
   ]
  },
  {
   "cell_type": "code",
   "execution_count": 95,
   "metadata": {},
   "outputs": [],
   "source": [
    "# we split the dataset in training batches and do the same for the generated test set.\n",
    "train_dl = list(zip(X.reshape(-1, batch_size, 1), y.reshape(-1, batch_size, 1)))\n",
    "test_dl = tuple(zip(X_test.reshape(-1, batch_size, 1), y_test.reshape(-1, batch_size, 1)))"
   ]
  },
  {
   "cell_type": "code",
   "execution_count": 97,
   "metadata": {},
   "outputs": [
    {
     "name": "stderr",
     "output_type": "stream",
     "text": [
      "  0%|                                                                                | 0/320 [00:00<?, ?it/s]"
     ]
    },
    {
     "name": "stdout",
     "output_type": "stream",
     "text": [
      "Training!\n"
     ]
    },
    {
     "name": "stderr",
     "output_type": "stream",
     "text": [
      "100%|█████████████████████████████████████████████████████████████████████| 320/320 [00:02<00:00, 115.66it/s]\n"
     ]
    },
    {
     "name": "stdout",
     "output_type": "stream",
     "text": [
      "Evaluation!\n",
      "Epoch 1/16 - Wasserstein distance: 1.44\n"
     ]
    },
    {
     "name": "stderr",
     "output_type": "stream",
     "text": [
      "100%|█████████████████████████████████████████████████████████████████████| 320/320 [00:01<00:00, 187.63it/s]\n"
     ]
    },
    {
     "name": "stdout",
     "output_type": "stream",
     "text": [
      "Epoch 2/16 - Wasserstein distance: 1.29\n"
     ]
    },
    {
     "name": "stderr",
     "output_type": "stream",
     "text": [
      "100%|█████████████████████████████████████████████████████████████████████| 320/320 [00:01<00:00, 187.74it/s]\n"
     ]
    },
    {
     "name": "stdout",
     "output_type": "stream",
     "text": [
      "Epoch 3/16 - Wasserstein distance: 0.91\n"
     ]
    },
    {
     "name": "stderr",
     "output_type": "stream",
     "text": [
      "100%|█████████████████████████████████████████████████████████████████████| 320/320 [00:01<00:00, 187.21it/s]\n"
     ]
    },
    {
     "name": "stdout",
     "output_type": "stream",
     "text": [
      "Epoch 4/16 - Wasserstein distance: 0.69\n"
     ]
    },
    {
     "name": "stderr",
     "output_type": "stream",
     "text": [
      "100%|█████████████████████████████████████████████████████████████████████| 320/320 [00:01<00:00, 187.58it/s]\n"
     ]
    },
    {
     "name": "stdout",
     "output_type": "stream",
     "text": [
      "Epoch 5/16 - Wasserstein distance: 0.46\n"
     ]
    },
    {
     "name": "stderr",
     "output_type": "stream",
     "text": [
      "100%|█████████████████████████████████████████████████████████████████████| 320/320 [00:01<00:00, 187.82it/s]\n"
     ]
    },
    {
     "name": "stdout",
     "output_type": "stream",
     "text": [
      "Epoch 6/16 - Wasserstein distance: 0.31\n"
     ]
    },
    {
     "name": "stderr",
     "output_type": "stream",
     "text": [
      "100%|█████████████████████████████████████████████████████████████████████| 320/320 [00:01<00:00, 187.78it/s]\n"
     ]
    },
    {
     "name": "stdout",
     "output_type": "stream",
     "text": [
      "Epoch 7/16 - Wasserstein distance: 0.18\n"
     ]
    },
    {
     "name": "stderr",
     "output_type": "stream",
     "text": [
      "100%|█████████████████████████████████████████████████████████████████████| 320/320 [00:01<00:00, 187.84it/s]\n"
     ]
    },
    {
     "name": "stdout",
     "output_type": "stream",
     "text": [
      "Epoch 8/16 - Wasserstein distance: 0.12\n"
     ]
    },
    {
     "name": "stderr",
     "output_type": "stream",
     "text": [
      "100%|█████████████████████████████████████████████████████████████████████| 320/320 [00:01<00:00, 187.72it/s]\n"
     ]
    },
    {
     "name": "stdout",
     "output_type": "stream",
     "text": [
      "Epoch 9/16 - Wasserstein distance: 0.12\n"
     ]
    },
    {
     "name": "stderr",
     "output_type": "stream",
     "text": [
      "100%|█████████████████████████████████████████████████████████████████████| 320/320 [00:01<00:00, 187.63it/s]\n"
     ]
    },
    {
     "name": "stdout",
     "output_type": "stream",
     "text": [
      "Epoch 10/16 - Wasserstein distance: 0.15\n"
     ]
    },
    {
     "name": "stderr",
     "output_type": "stream",
     "text": [
      "100%|█████████████████████████████████████████████████████████████████████| 320/320 [00:01<00:00, 187.84it/s]\n"
     ]
    },
    {
     "name": "stdout",
     "output_type": "stream",
     "text": [
      "Epoch 11/16 - Wasserstein distance: 0.09\n"
     ]
    },
    {
     "name": "stderr",
     "output_type": "stream",
     "text": [
      "100%|█████████████████████████████████████████████████████████████████████| 320/320 [00:01<00:00, 187.82it/s]\n"
     ]
    },
    {
     "name": "stdout",
     "output_type": "stream",
     "text": [
      "Epoch 12/16 - Wasserstein distance: 0.07\n"
     ]
    },
    {
     "name": "stderr",
     "output_type": "stream",
     "text": [
      "100%|█████████████████████████████████████████████████████████████████████| 320/320 [00:01<00:00, 187.78it/s]\n"
     ]
    },
    {
     "name": "stdout",
     "output_type": "stream",
     "text": [
      "Epoch 13/16 - Wasserstein distance: 0.08\n"
     ]
    },
    {
     "name": "stderr",
     "output_type": "stream",
     "text": [
      "100%|█████████████████████████████████████████████████████████████████████| 320/320 [00:01<00:00, 187.79it/s]\n"
     ]
    },
    {
     "name": "stdout",
     "output_type": "stream",
     "text": [
      "Epoch 14/16 - Wasserstein distance: 0.14\n"
     ]
    },
    {
     "name": "stderr",
     "output_type": "stream",
     "text": [
      "100%|█████████████████████████████████████████████████████████████████████| 320/320 [00:01<00:00, 187.56it/s]\n"
     ]
    },
    {
     "name": "stdout",
     "output_type": "stream",
     "text": [
      "Epoch 15/16 - Wasserstein distance: 0.07\n"
     ]
    },
    {
     "name": "stderr",
     "output_type": "stream",
     "text": [
      "100%|█████████████████████████████████████████████████████████████████████| 320/320 [00:01<00:00, 187.56it/s]\n"
     ]
    },
    {
     "name": "stdout",
     "output_type": "stream",
     "text": [
      "Epoch 16/16 - Wasserstein distance: 0.11\n",
      "Learned data distribution has mean 1.11 and var 4.76 \n",
      "Learned parameters weight -1.94 and bias -0.53\n"
     ]
    }
   ],
   "source": [
    "import random\n",
    "\n",
    "nm_epochs = 5120 // (nm_elements // batch_size)\n",
    "\n",
    "# Note how the text \"Training!\" appears only once. This is because 'train_on_batch' is executed only once,\n",
    "# and then its compiled equivalent is instead used (which only cares about what happens to jax.Arrays and\n",
    "# discards all python code).\n",
    "T = 500\n",
    "T_eval = 10000\n",
    "for e in range(nm_epochs):\n",
    "    random.shuffle(train_dl)\n",
    "    train(train_dl, T=T, model=model, optim_w=optim_w, optim_h=optim_h)\n",
    "    w, y_ = eval(test_dl, T = T_eval, model=model, optim_h=optim_h)\n",
    "    \n",
    "    print(f\"Epoch {e + 1}/{nm_epochs} - Wasserstein distance: {w :.2f}\")\n",
    "\n",
    "print(f\"Learned data distribution has mean {y_.mean():.2f} and var {y_.var():.2f} \")\n",
    "print(f\"Learned parameters weight {model.layers[-1].nn.weight.get()[0,0] :.2f} and bias {model.layers[0].nn.bias.get()[0] :.2f}\")"
   ]
  },
  {
   "cell_type": "code",
   "execution_count": 99,
   "metadata": {},
   "outputs": [
    {
     "data": {
      "image/png": "[encoded data removed]",
      "text/plain": [
       "<Figure size 640x480 with 1 Axes>"
      ]
     },
     "metadata": {},
     "output_type": "display_data"
    }
   ],
   "source": [
    "plt.hist(y, label = \"data\", density=True, alpha=0.5, bins=30)\n",
    "plt.hist(y_, label = \"learned\", density=True, alpha=0.5, bins=30)\n",
    "plt.ylabel(\"pdf\")\n",
    "plt.xlabel(\"y\")\n",
    "plt.legend()\n",
    "plt.tight_layout()\n",
    "plt.show()"
   ]
  }
 ],
 "metadata": {
  "kernelspec": {
   "display_name": "Python 3 (ipykernel)",
   "language": "python",
   "name": "python3"
  },
  "language_info": {
   "codemirror_mode": {
    "name": "ipython",
    "version": 3
   },
   "file_extension": ".py",
   "mimetype": "text/x-python",
   "name": "python",
   "nbconvert_exporter": "python",
   "pygments_lexer": "ipython3",
   "version": "3.10.14"
  }
 },
 "nbformat": 4,
 "nbformat_minor": 2
}
