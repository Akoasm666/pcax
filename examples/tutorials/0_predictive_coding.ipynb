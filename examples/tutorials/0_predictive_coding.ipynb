{
 "cells": [
  {
   "attachments": {},
   "cell_type": "markdown",
   "metadata": {},
   "source": [
    "# Tutorial 0: predictive coding via **pcax**\n",
    "In this notebook, you will learn how to use pcax to build arbitrary predictive coding networks. We will focus on a fully connected network trained on MNIST: the \"hello world\" of neural networks and deep learning.\n",
    "The current version of the library is 0.5.0, which had some minor but impactful changes compared to v0.3.0. Be sure to use the right version of pcax, or you'll run into a bunch of syntax errors!\n",
    "\n",
    "Good luck!"
   ]
  },
  {
   "attachments": {},
   "cell_type": "markdown",
   "metadata": {},
   "source": [
    "## Part 0: Importing dependencies\n",
    "pcax is based on JAX and combines the ideas behind [equinox](https://github.com/patrick-kidger/equinox) and [objax](https://github.com/google/objax), two deep-learning libraries built on top of JAX. In particular, *equinox* is currently a dependency as we use the `nn` modules provided by it.\n",
    "\n",
    "\n",
    "The library is divided in three modules:\n",
    "- *core*: defines the basic building blocks of pcax, unrelated to predictive coding itself.\n",
    "- *pc*: here lies all the predictive coding implementation, which will probably keep changing and being updated as more discoveries are made in the field.\n",
    "- *nn*: simply contains the typical layers you could expect from a deep learning library, which are currently built as a wrap around *equinox* layers.\n",
    "- *utils*: various tools to ease the development of complex applications by providing shurtcuts for commond implementation patterns."
   ]
  },
  {
   "cell_type": "code",
   "execution_count": 1,
   "metadata": {},
   "outputs": [],
   "source": [
    "# Core dependencies\n",
    "import jax\n",
    "import optax\n",
    "\n",
    "# pcax\n",
    "\n",
    "# Importing pcax is equivalent to importing pcax.pc\n",
    "# which contains the functionalities to build a predictive coding network\n",
    "import pcax as px\n",
    "\n",
    "# A filter is core object of pcax. It is used to filter which parameters in a network\n",
    "# should undergo a specific JAX transformation (e.g. jax.grad, jax.jit, etc.).\n",
    "# Consequently, despite being a core object, pcax offers a shortuct to use it: pcax.f.\n",
    "\n",
    "# pcax.nn contains the neural network modules (e.g. Conv2d, Linear, etc.)\n",
    "# at the moment only Linear is implemented, but more coming soon!\n",
    "import pcax.nn as nn\n",
    "\n",
    "# pcax.utils contains some useful utilities to train and use the network\n",
    "import pcax.utils as pxu\n",
    "\n",
    "# finally we can import the library's core which is simply a wrapper around JAX,\n",
    "# unrelated to predictive coding. useful for some advanced configurations.\n",
    "# We will not use it in this tutorial. \n",
    "# import pcax.core as pxc"
   ]
  },
  {
   "attachments": {},
   "cell_type": "markdown",
   "metadata": {},
   "source": [
    "In this example, we will also use the following dependencies:"
   ]
  },
  {
   "cell_type": "code",
   "execution_count": 2,
   "metadata": {},
   "outputs": [],
   "source": [
    "from typing import Callable, Optional\n",
    "import timeit\n",
    "import os\n",
    "import numpy as np\n",
    "from torchvision.datasets import MNIST"
   ]
  },
  {
   "cell_type": "code",
   "execution_count": 3,
   "metadata": {},
   "outputs": [],
   "source": [
    "# By default JAX will use all the availble memory on the target GPU device.\n",
    "# This can be beneficial for performance but can also result in a device being completely\n",
    "# unsuable by other people. The following flag disables this behaviour.\n",
    "# PLEASE REMEMBER TO ALWAYS SET THIS FLAG when working on shared machines.\n",
    "\n",
    "os.environ[\"XLA_PYTHON_CLIENT_PREALLOCATE\"] = \"false\"\n",
    "\n",
    "# As with PyTorch, we can define specify which gpu to use:\n",
    "os.environ[\"CUDA_VISIBLE_DEVICES\"] = \"3\""
   ]
  },
  {
   "attachments": {},
   "cell_type": "markdown",
   "metadata": {},
   "source": [
    "## Part 1: Defining a Model\n",
    "Defining a basic pcax model is very straightforward: simply interpone in the forward call a `px.Node` between any two `nn.Layer`s (e.g. linear layers followed by an activation function). To do so first define them in the `__init__`, no arguments are required for basic usage!\n",
    "\n",
    "In the `__init__`, we also define the activation function we are going to use and the specify we do not want to update the `x` of the last node, since it will contain the label we want our network to learn. It is, in fact, common practice to freeze the target nodes during training. Note this model does not directly support inference on the inputs as there is no node to store the input `x` of the forward call."
   ]
  },
  {
   "cell_type": "code",
   "execution_count": 4,
   "metadata": {},
   "outputs": [],
   "source": [
    "# A model is defined in a way that is similar to PyTorch. In particular:\n",
    "# - we inherit from px.EnergyModule;\n",
    "# - we define the activation functions, nodes, and layers in the __init__ method;\n",
    "# - we define the forward pass in the __call__ method. By default, the forward pass will also be used to\n",
    "#   initialize the network as it will be described later.\n",
    "\n",
    "class Model(px.EnergyModule):\n",
    "    def __init__(self,\n",
    "                 input_dim: int,\n",
    "                 hidden_dim: int,\n",
    "                 output_dim: int,\n",
    "                 nm_layers: int,\n",
    "                 act_fn: Callable[[jax.Array], jax.Array]) -> None:\n",
    "        super().__init__()\n",
    "\n",
    "        self.act_fn = act_fn\n",
    "\n",
    "        # This is quite standard. We define the layers and nodes (one node to follow each layer).\n",
    "        self.layers = [nn.Linear(input_dim, hidden_dim)] + [\n",
    "            nn.Linear(hidden_dim, hidden_dim) for _ in range(nm_layers - 1)\n",
    "        ] + [nn.Linear(hidden_dim, output_dim)]\n",
    "\n",
    "        self.nodes = [px.Node() for _ in range(nm_layers + 1)]\n",
    "\n",
    "        # We normally use the x of the last layer as the target, therefore we don't want to update it\n",
    "        # during training.\n",
    "        self.nodes[-1].x.frozen = True\n",
    "\n",
    "    # Here things are a bit different. __call__ accepts an optional target t (used during training),\n",
    "    # which is used to set the value of the last node to the target label.\n",
    "    def __call__(self,\n",
    "                 x: jax.Array,\n",
    "                 t: Optional[jax.Array] = None):\n",
    "\n",
    "        # !!! IMPORTANT !!!\n",
    "        # Each (pc) layer contains a cache the stores the important intermediate values computed in the forward pass.\n",
    "        # By default, these are the incoming activation 'u', the node value 'x' and the energy 'e'.\n",
    "        # You can access them by using the [] operator, e.g., self.pc[\"x\"].\n",
    "\n",
    "        # We forward x through the network, clamping the last node to the target label.\n",
    "        # We use the activation function defined in the __init__ method for all the layers but the last one.\n",
    "        # Notice how the input x is passed directly to the first layer before being saved to any node:\n",
    "        # this PCN works only in forward mode, therefore we don't need to save the input.\n",
    "        # Finally, note that the syntax `node(x)[\"x\"]` is, by default, a shortcut for the following:\n",
    "        # \n",
    "        # node[\"u\"] = x\n",
    "        # if node.is_init:\n",
    "        #     node[\"x\"] = node[\"u\"]\n",
    "        # return node[\"x\"]\n",
    "        #\n",
    "        # which means that, by default, the forward pass is also used to initialize the node values.\n",
    "        for node, layer in zip(self.nodes[:-1], self.layers[:-1]):\n",
    "            x = node(self.act_fn(layer(x)))[\"x\"]\n",
    "\n",
    "        x = self.nodes[-1](self.layers[-1](x))[\"x\"]\n",
    "\n",
    "        # If the have a target we use it to clamp the last node.\n",
    "        if t is not None:\n",
    "            self.nodes[-1][\"x\"] = t\n",
    "\n",
    "        # The output of the network is the activation received by the last layer (since its x is clamped to the label).\n",
    "        return self.nodes[-1][\"u\"]"
   ]
  },
  {
   "attachments": {},
   "cell_type": "markdown",
   "metadata": {},
   "source": [
    "Let's now define the training parameters we are going to use:"
   ]
  },
  {
   "cell_type": "code",
   "execution_count": 5,
   "metadata": {},
   "outputs": [],
   "source": [
    "params = {\n",
    "    \"batch_size\": 256,\n",
    "    \"x_learning_rate\": 0.01,\n",
    "    \"w_learning_rate\": 1e-3,\n",
    "    \"num_epochs\": 4,\n",
    "    \"hidden_dim\": 128,\n",
    "    \"input_dim\": 28 * 28,\n",
    "    \"output_dim\": 10,\n",
    "    \"seed\": 0,\n",
    "    \"T\": 4,\n",
    "}"
   ]
  },
  {
   "attachments": {},
   "cell_type": "markdown",
   "metadata": {},
   "source": [
    "Let's now define the dataloaders we'll need to train and test our model."
   ]
  },
  {
   "cell_type": "code",
   "execution_count": 6,
   "metadata": {},
   "outputs": [],
   "source": [
    "# This is all standard and uses PyTorch's datasets and dataloaders. We are assuming cuda is available to set the dataloaders' parameters.\n",
    "\n",
    "# We'll train with the standard pc energy function, that is, the sum of the squared differences between the node values and the target.\n",
    "# Therefore, we need to convert the targets to one-hot vectors.\n",
    "def one_hot(t, k):\n",
    "    return np.array(t[:, None] == np.arange(k), dtype=np.float32)\n",
    "\n",
    "\n",
    "# Used to convert the square 0-255 images to 0-1 float vectors.\n",
    "class FlattenAndCast:\n",
    "    def __call__(self, pic):\n",
    "        return np.ravel(np.array(pic, dtype=np.float32) / 255.0)\n",
    "\n",
    "\n",
    "train_dataset = MNIST(\n",
    "    \"/tmp/mnist/\",\n",
    "    transform=FlattenAndCast(),\n",
    "    download=True,\n",
    "    train=True,\n",
    ")\n",
    "train_dataloader = pxu.data.TorchDataloader(\n",
    "    train_dataset,\n",
    "    batch_size=params[\"batch_size\"],\n",
    "    num_workers=8,\n",
    "    shuffle=True,\n",
    "    persistent_workers=True,\n",
    "    pin_memory=True,\n",
    ")\n",
    "\n",
    "\n",
    "test_dataset = MNIST(\n",
    "    \"/tmp/mnist/\",\n",
    "    transform=FlattenAndCast(),\n",
    "    download=True,\n",
    "    train=False,\n",
    ")\n",
    "test_dataloader = pxu.data.TorchDataloader(\n",
    "    test_dataset,\n",
    "    batch_size=params[\"batch_size\"],\n",
    "    num_workers=8,\n",
    "    shuffle=False,\n",
    "    persistent_workers=True,\n",
    "    pin_memory=True,\n",
    ")"
   ]
  },
  {
   "attachments": {},
   "cell_type": "markdown",
   "metadata": {},
   "source": [
    "## Part 2: Where the fun begins\n",
    "As mentioned, pcax is based on JAX, which is a functional framework. Consequently, in order to offer a simple object oriented interface to it, there are some compromises to be made and strict patterns to follow. In particular, JAX requires to keep track of all the tensors involved in a computation. pcax does this by tracking all the `Params` contained in any `Module` passed to a function **as a keyword argument**. So be careful when defining a function... but we'll go into more details later.\n",
    "\n",
    "The way JAX works is by transforming simply functions to achieve complex behaviours. Let's see what this means!"
   ]
  },
  {
   "attachments": {},
   "cell_type": "markdown",
   "metadata": {},
   "source": [
    "### Part 2.1: Defining a function\n",
    "Let's see how a function involving a `px.Module` (`px.EnergyModule` is a `px.Module`) is defined. We'll proceed step by step (so only the last version is the correct one).\n",
    "\n",
    "Consider the function `predict(x, t)` which simply calls the forward pass of the model (we also include the optional target `t` as well since it is needed during training).\n",
    "In normal python, `predict` should look similar to the following:"
   ]
  },
  {
   "cell_type": "code",
   "execution_count": 7,
   "metadata": {},
   "outputs": [],
   "source": [
    "def predict(model, x, t = None):\n",
    "    return model(x, t)"
   ]
  },
  {
   "attachments": {},
   "cell_type": "markdown",
   "metadata": {},
   "source": [
    "**However**, since this function uses a `px.Module` (i.e., `model`), we need to treat it differently and explicitely pass it as a keyword argument. There's not much too add, it needs to be done :P\n",
    "So `predict` should look like this:"
   ]
  },
  {
   "cell_type": "code",
   "execution_count": 8,
   "metadata": {},
   "outputs": [],
   "source": [
    "# '*' means that all the following arguments must be passed by name.\n",
    "# It is standard Python syntax and it can be omitted if you remember to pass the arguments by name.\n",
    "# However, defining the function in this way makes it easier to use avoid this simple mistake.\n",
    "def predict(x, *, t = None, model = None):\n",
    "    return model(x, t)"
   ]
  },
  {
   "attachments": {},
   "cell_type": "markdown",
   "metadata": {},
   "source": [
    "Unfortunately, we are not done. There's one more convention that need to be followed, and it's the difference between static and dynamic parameters (another key JAX concept). In general, you can think at it in this way: a tensor (even if it contains a single number) is a dynamic value, anything else is static. In details, a dynamic parameter is a parameter that *does not* alter the flow of execution of a program, but only its output. Think about the following function:\n",
    "\n",
    "```python\n",
    "def op(a: float, b: float, op: str):\n",
    "    if op == '+':\n",
    "        return a + b\n",
    "    elif op == '-':\n",
    "        return a - b\n",
    "```\n",
    "\n",
    "Here, different `a` and `b` values will produce different results but the required computation dependes exclusively on `op` (given that the type of `a` and `b` is fixed). Thus, `a` and `b` are dynamic parameters, `op` is static.\n",
    "This, however, means that we cannot use the value of `a` or `b` to alter the flow of the function. For example, the following is not valid:\n",
    "\n",
    "```python\n",
    "def op(a: float, b: float, op: str):\n",
    "    if op == '+':\n",
    "        c = a + b\n",
    "    elif op == '-':\n",
    "        c = a - b\n",
    "\n",
    "    if c < 0:\n",
    "        return c + 1\n",
    "    else:\n",
    "        return c + 2\n",
    "```\n",
    "Here we condition on `c` which, being a product of dynamic parameters, is a dynamic parameter as well. This will result in a compilation error.\n",
    "There are primitives that allow us to dynamically execute different pieces of code based on dynamic values and we will see them in another tutorial.\n",
    "To conclude this section, we always have to decide if a parameter is static (i.e., we want to use it as a *flag* to compile the same code multiple times with different behaviours) or dynamic (it is an actual parameter of the function we define). What happens is that static parameters are hardcoded into the function when it is compiled, and using different static values for the same parameter will result in a recompilation of the function.\n",
    "\n",
    "pcax follows the following convention: positional arguments are dynamic, keyword arguments are static. Thus, we would have to do the following to call `op`: `op(1.0, 2.0, op=\"+\")`. Note that this is necessary only for JAX-transformed functions (we'll look at them in a moment).\n",
    "\n",
    "All of this means that `predict` should be defined as:"
   ]
  },
  {
   "cell_type": "code",
   "execution_count": 9,
   "metadata": {},
   "outputs": [],
   "source": [
    "# again note that '*' is not necessary but it makes it easier to avoid mistakes.\n",
    "def predict(x, t = None, *, model = None):\n",
    "    return model(x, t)"
   ]
  },
  {
   "attachments": {},
   "cell_type": "markdown",
   "metadata": {},
   "source": [
    "And now it is ready to be used by pcax!\n",
    "\n",
    "The next step is **vectorization** (used to achieve **batching** in this case). JAX (and therefore pcax) defines each computation on a tensor assuming it contains a single sample (that is, there is no batch dimension as it happens, for instance, in Pytorch). Therefore, in the function above, `x` is supposed to be an array with shape [784,] (e.g., a flattened MNIST image) and `t` an array with shape [10,] (the corresponding one-hot encoded label). If we want `predict` to be able to work on batched input (i.e., `x` with shape [n, 784]), we need to *vectorize* the function such that the `predict` computation will be repeated along the batch dimension. In JAX, this is achieved using `vmap`. In pcax, given its inspiration from objax, using `Vectorize` (this may change in the future as the library evolves past its original objax-like formulation).\n",
    "\n",
    "`pcax.utils` offers a list of functions and decorators that can be used to easily apply these transformations to any function. Since we have already imported it as `pxu`, we can \"batch\" `predict` by adding the following decorator to it:"
   ]
  },
  {
   "cell_type": "code",
   "execution_count": 10,
   "metadata": {},
   "outputs": [],
   "source": [
    "@pxu.vectorize(px.f(px.NodeParam, with_cache=True), in_axis=(0, 0))\n",
    "def predict(x: jax.Array, t: Optional[jax.Array] = None, *, model):\n",
    "    return model(x, t)"
   ]
  },
  {
   "attachments": {},
   "cell_type": "markdown",
   "metadata": {},
   "source": [
    "There is quite a lot to unpack:\n",
    "- first of all, now predict can be exclusively be used with batched input, which means that both `x` and `t` must share the same size for dimension `0`.\n",
    "- `pxu.vectorize` is a thin wrapper around `pxc.Vectorize`. The first argument specifies which parameters of the models passed to the function we want to vectorize using `px.f`. As of now, for predictive coding, these are, always and only, the node values, which, in pcax, are identified as `px.NodeParam`. In fact, each data sample should have its own exclusive set of node values (on the contrary, weight values are shared between different batch samples and we do not want to have them vectorized). `with_cache` specifies that you want to capture not only the node values, but also their cached transformations (this for example includes the activation `u` produced by each layer and received by each node). Again, as of now, you will probably, always and only, have to specify it when using vectorize to batch a function.\n",
    "- `in_axis` specifies how to treat the *positional* arguments of the function (note how there are only two values in the tuple despite the function taking three: model, being a keyword, and thus static, argument, is automatically ignored). `0` means that the function will be vectorized over the first dimension of the corresponding argument while passing `None` means that the argument will be ignored by the vectorization and passed as it is to the function. In the case of `predict`, both `x` and `t` will be batches of sample data with shape [batch_dim, ...] so we pass `0` for both of them.\n",
    "- by default `pcu.vectorize` expects a single output vectorized along dimension `0`, which is exactly what we have here."
   ]
  },
  {
   "attachments": {},
   "cell_type": "markdown",
   "metadata": {},
   "source": [
    "You can look at the definition of `px.f` for instructions and tips on how to use it."
   ]
  },
  {
   "attachments": {},
   "cell_type": "markdown",
   "metadata": {},
   "source": [
    "Let's go to the next function we need: the loss function.  \n",
    "Similarly to how in Pytorch you compute the gradients from the loss by calling `loss.backward()`, here we compute the gradients by transforming the loss function such that is also output the gradients.\n",
    "\n",
    "In predictive coding, the standard loss function simply computes and returns the model's energy:"
   ]
  },
  {
   "cell_type": "code",
   "execution_count": 11,
   "metadata": {},
   "outputs": [],
   "source": [
    "@pxu.vectorize(px.f(px.NodeParam, with_cache=True), in_axis=(0, 0), out_axis=(\"sum\",))\n",
    "def loss(x: jax.Array, t: Optional[jax.Array] = None, *, model):\n",
    "    model(x)\n",
    "    return model.energy()"
   ]
  },
  {
   "attachments": {},
   "cell_type": "markdown",
   "metadata": {},
   "source": [
    "Let's observe a few things:\n",
    "- we pass `t` (the target label) and compute `y` (the output of the model) as it's standard practice, however, here, they are not strictly necessary: we don't need the model's output to compute the error (as it is used already when computing the energy) and we assume that the target has already been set to the `x` of the last node when we initialized the node values (so, again, it is already included in the energy computation).\n",
    "- the first two parameters of `px.vectorize` are the same of `predict`, however here we add a modifier for the output (notice that, even if we have a single output, `out_axis` is specified using a tuple). We use `\"sum\"` to specify that the output of the function should be the summed over the batch dimension. We do this because, as it happens in Pytorch, the loss must be a single floating point value (we don't use the mean since we want the total energy coming from each error node, not their average).\n",
    "- `model.energy()` computes and caches the energy value for each node in `model`, returning their sum."
   ]
  },
  {
   "attachments": {},
   "cell_type": "markdown",
   "metadata": {},
   "source": [
    "Now, we want to define two different \"backward\" functions, one for the *x step* (in which we update the value nodes) and one for the *w step* (in which we update the weights). They are identical except for the fact that they compute gradients with respect of different elements.  \n",
    "`pxu.grad_and_values` transform a function such that is outputs the gradients with respect to the specified variables. Note how the filter used in either case does not specify `with_cache=True` as we do not want (and it would not make much sense) to compute the gradient with respect of cached intermediate values."
   ]
  },
  {
   "cell_type": "code",
   "execution_count": 12,
   "metadata": {},
   "outputs": [],
   "source": [
    "# train_x computes the gradients with respect to the node values that are not frozen.\n",
    "train_x = pxu.grad_and_values(\n",
    "    px.f(px.NodeParam)(frozen=False), # px.f.__call__(**kawrgs) is used to apply a filter, selecting all the variables with the specified properties\n",
    ")(loss)\n",
    "\n",
    "# train_w computes the gradients with respect to the weights.\n",
    "train_w = pxu.grad_and_values(\n",
    "    px.f(px.LayerParam)\n",
    ")(loss)"
   ]
  },
  {
   "attachments": {},
   "cell_type": "markdown",
   "metadata": {},
   "source": [
    "This covers almost everything you need to do about defining a function the operates on one (or more) `px.Module`. We can now define a model. This would normally be done inside the `if __name__ == \"__main__\"`, but to provide a more linear tutorial we introduce it here."
   ]
  },
  {
   "cell_type": "code",
   "execution_count": 13,
   "metadata": {},
   "outputs": [],
   "source": [
    "model = Model(28 * 28, params[\"hidden_dim\"], 10, 2, jax.nn.tanh)"
   ]
  },
  {
   "attachments": {},
   "cell_type": "markdown",
   "metadata": {},
   "source": [
    "### Part 2.2: Optimizers\n",
    "In pcax (as it is inspired from Objax), optimizers are `px.Module`s as well. Consequentely, they need to be treated similarly to how we used `model`. In particular, they must be passaed as keywords arguments to any function that uses them.\n",
    "pcax offers a single `px.Optim` class that allows `px.Module`s to interact with `optax` optimizers (the most common JAX library for optimizers). As you can see from the following example, you simply have to specify which `optax` optimizer to use for which subset of the `px.Module` variables. In this case, similarly to how we defined the two loss functions, we defined an *x optimizer* and a *w optimizer*."
   ]
  },
  {
   "cell_type": "code",
   "execution_count": 14,
   "metadata": {},
   "outputs": [],
   "source": [
    "# dummy run to init the optimizer parameters\n",
    "with pxu.train(model, np.zeros((params[\"batch_size\"], 28 * 28)), None):\n",
    "    optim_x = pxu.Optim(\n",
    "        optax.sgd(params[\"x_learning_rate\"]),\n",
    "        model.parameters().filter(px.f(px.NodeParam)(frozen=False))\n",
    "    )\n",
    "    optim_w = pxu.Optim(\n",
    "        optax.adam(params[\"w_learning_rate\"]),\n",
    "        model.parameters().filter(px.f(px.LayerParam)),\n",
    "    )"
   ]
  },
  {
   "attachments": {},
   "cell_type": "markdown",
   "metadata": {},
   "source": [
    "You may ask yourself what is first line for?\n",
    "\n",
    "It may be the case that your optimizers defines some parameters that are linked to the individual trainable parameter inside your model. For instance, you could choose to use `optax.adam` for `optim_x` (not recommended, for all we know you should stick with stateless optimizators for the value nodes). In this case, the optimizer needs to instantiate the `adam` parameters and, thus, it requires to know the shape of all the `px.NodeParams`s inside your model. However, if we do not run the model at least once, all the node values will be empty, since they are lazily created. Furthermore, the shape of the value nodes depends on the batch size (since, remember, we want different value nodes for each different input), so we need to perform a dummy run on a dummmy input with the same shape of the samples we are gonna train on to correctly initialize all the parameters inside the model. Only then we can safely create the two optimizers. (Note that this requires `batch_size` to be constant throught the program. To guarantee this, by default, the dataloaders have `drop_last=True`. Unless you know what you're doing, do not attempt to modify that.)\n",
    "\n",
    "It actually doesn't really matter what you pass as `x` and `t`, but only that their shape matches the one of the true input batches (but in this way you can see how you can pass `None` as the target of the predict function).\n",
    "\n",
    "`px.train` (and `px.eval`) does exactly this: under the hood it behaves like the `predict` function we defined previously (if you pass an arguments other than `model`). **NOTE**: This is one of the few, if not the only, \"hidden behaviours\" of pcax: `px.train` (and `px.eval`) calls a batched version of `model.__call__` if you provide any arguments to it. In order to customise its batching behaviour `px.train` accepts all the kwargs you would normally pass to `pxu.vectorize` (all the other args will be passed to `model.__call__`).\n",
    "\n",
    "In addition to this, `px.train`/`px.eval` set the internal status flag of the model such that either `is_train`/`is_eval` returns `True`."
   ]
  },
  {
   "attachments": {},
   "cell_type": "markdown",
   "metadata": {},
   "source": [
    "As we have already hinted, it is important to know that `px.Module` uses an internal caching system to store intermediate values for later computations (such as a layer's activation `u`, necessary to compute a node's energy). If you need to run multiple forward passes on the same input (like during training), you have to enclose each one of them into a `px.step` context manager. This ensures that the cache is cleared and the next forward pass with compute new updated values instead of reusing previous ones."
   ]
  },
  {
   "attachments": {},
   "cell_type": "markdown",
   "metadata": {},
   "source": [
    "### Part 2.3: Training the model\n",
    "We are almost done. We have all the ingredients to train the model, we just need to assemble them in the training and evaluation functions. There's only one core concept to introduce: *jitting*. *Just In Time* compilation allows the program to get compiled and optimized (it's the reason we have so many constraints on how code should be written). We jit the computations executed on a single batch as we want to compile as much code as possible, and `train_on_batch` represents the single largest repeated operation occurring during training."
   ]
  },
  {
   "cell_type": "code",
   "execution_count": 15,
   "metadata": {},
   "outputs": [],
   "source": [
    "@pxu.jit()\n",
    "def train_on_batch(x, y, *, model, optim_w, optim_x):\n",
    "    # We are working on the input x, so we initialise the internal nodes with it.\n",
    "    with pxu.train(model, x, y) as (y_hat,):\n",
    "        for i in range(params[\"T\"]):\n",
    "            # Each forward pass caches the intermediate values (such as activations and energies), so we can use them to compute the gradients.\n",
    "            # px.step takes care of managing the cache.\n",
    "            with pxu.step(model):\n",
    "                g, (v,) = train_x(x, y, model=model)\n",
    "                optim_x(g)\n",
    "\n",
    "        with pxu.step(model):\n",
    "            g, (v,) = train_w(x, y, model=model)\n",
    "            optim_w(g)"
   ]
  },
  {
   "attachments": {},
   "cell_type": "markdown",
   "metadata": {},
   "source": [
    "A few remarks:\n",
    "- this is the standard pc training procedure:\n",
    "    - we initialize the node values using `px.train` (which by default uses forward initialization)\n",
    "    - we repeat the *x-update* step for `T` times and then we perform a single *w-update*.\n",
    "- `optim_*(g)` updates the node values/weights of the model, therefore all the computed cached values must be cleared. That's why we enclose each trainig operation in a `px.step`.\n",
    "- you can see that the values returned by `pxu.train` (and `predict`) and `train_*` (the first value returned by `train_*` are the computed gradients, and then there are the actual return values of the function) are all tuples, even if a single value is acutally returned by the orginal functions (before being transformed). Just something to keep in mind."
   ]
  },
  {
   "attachments": {},
   "cell_type": "markdown",
   "metadata": {},
   "source": [
    "Let's see the remaining functions."
   ]
  },
  {
   "cell_type": "code",
   "execution_count": 16,
   "metadata": {},
   "outputs": [],
   "source": [
    "@pxu.jit()\n",
    "def evaluate(x, y, *, model):\n",
    "    # As in train_on_batch, we initialise the internal nodes with the input x. By doing so we also get the model's output y_hat.\n",
    "    with pxu.eval(model, x, y) as (y_hat,):\n",
    "        return (y_hat.argmax(-1) == y.argmax(-1)).mean()\n",
    "\n",
    "\n",
    "def epoch(dl):\n",
    "    for batch in dl:\n",
    "        x, y = batch\n",
    "        y = one_hot(y, 10)\n",
    "\n",
    "        train_on_batch(x, y, model=model, optim_w=optim_w, optim_x=optim_x)\n",
    "\n",
    "    return 0\n",
    "\n",
    "\n",
    "def test(dl):\n",
    "    accuracies = []\n",
    "    for batch in dl:\n",
    "        x, y = batch\n",
    "        y = one_hot(y, 10)\n",
    "\n",
    "        accuracies.append(evaluate(x, y, model=model))\n",
    "\n",
    "    return np.mean(accuracies)"
   ]
  },
  {
   "attachments": {},
   "cell_type": "markdown",
   "metadata": {},
   "source": [
    "And the main body:"
   ]
  },
  {
   "cell_type": "code",
   "execution_count": 17,
   "metadata": {},
   "outputs": [
    {
     "name": "stdout",
     "output_type": "stream",
     "text": [
      "Compiling + Epoch 1 took 2.450080598006025 seconds\n",
      "An Epoch takes on average 1.141245722246822 seconds\n",
      "Final Accuracy: 0.96033657\n"
     ]
    }
   ],
   "source": [
    "if __name__ == \"__main__\":\n",
    "    t = timeit.timeit(lambda: epoch(train_dataloader), number=1)\n",
    "    print(\"Compiling + Epoch 1 took\", t, \"seconds\")\n",
    "\n",
    "    # Time of an epoch (without jitting)\n",
    "    t = timeit.timeit(lambda: epoch(train_dataloader), number=params[\"num_epochs\"]) / params[\"num_epochs\"]\n",
    "    print(\"An Epoch takes on average\", t, \"seconds\")\n",
    "\n",
    "    print(\"Final Accuracy:\", test(test_dataloader))"
   ]
  },
  {
   "attachments": {},
   "cell_type": "markdown",
   "metadata": {},
   "source": [
    "If everything is all right, you should get a final accuracy of ~96%. On pssr2, you should also get a time per epoch of ~1.20. The training time is actually heavily bottlenecked by the data transfer between CPU and GPU, that's why we are using 8 workers in each dataloader. So depending on your configuration the final speed my change.\n",
    "\n",
    "**However**, there is one more step that we can do to improve performance: using `snapshots`. JAX jitting works by keeping track of all the dynamic and static arguments you pass to a jitted function: if the type/shape of a dynamic argument or value of a static one changes the function needs to be recompiled. Of course, this is the correct intended behaviour. However, checking for these changes is computationally expensive. pcax let the user specifies that some static arguments (e.g., the modules we use) are not gonna change between calls of the same function (we are not magically gonna add new parameters to our model while its training...) by creating a snapshot of them at a specific state."
   ]
  },
  {
   "cell_type": "code",
   "execution_count": 18,
   "metadata": {},
   "outputs": [],
   "source": [
    "train_fn = train_on_batch.snapshot(model=model, optim_w=optim_w, optim_x=optim_x)\n",
    "test_fn = evaluate.snapshot(model=model)"
   ]
  },
  {
   "attachments": {},
   "cell_type": "markdown",
   "metadata": {},
   "source": [
    "Now we can use these functions inside `epoch` and `test` and speed everything up:"
   ]
  },
  {
   "cell_type": "code",
   "execution_count": 19,
   "metadata": {},
   "outputs": [],
   "source": [
    "def epoch(dl, train_fn):\n",
    "    for batch in dl:\n",
    "        x, y = batch\n",
    "        y = one_hot(y, 10)\n",
    "\n",
    "        train_fn(x, y)\n",
    "\n",
    "    return 0\n",
    "\n",
    "\n",
    "def test(dl, test_fn):\n",
    "    accuracies = []\n",
    "    for batch in dl:\n",
    "        x, y = batch\n",
    "        y = one_hot(y, 10)\n",
    "\n",
    "        accuracies.append(test_fn(x, y))\n",
    "\n",
    "    return np.mean(accuracies)"
   ]
  },
  {
   "attachments": {},
   "cell_type": "markdown",
   "metadata": {},
   "source": [
    "Since we want a fair training comparison, let's reset the model parameters before training it again. This can be done using `px.move`:"
   ]
  },
  {
   "cell_type": "code",
   "execution_count": 20,
   "metadata": {},
   "outputs": [
    {
     "data": {
      "text/plain": [
       "{\"(Model).layers.(SequenceKey(idx=0), 'nn.(FlattenedIndexKey(key=0),)')\": LayerParam(Array([[ 0.01528633,  0.00420511,  0.02517964, ...,  0.02357602,\n",
       "         -0.01924622, -0.00733546],\n",
       "        [-0.03351723, -0.02838478, -0.02506822, ..., -0.0231735 ,\n",
       "          0.01136308, -0.01726058],\n",
       "        [-0.02733533, -0.01074283,  0.02663257, ..., -0.02865989,\n",
       "         -0.02428304, -0.0295321 ],\n",
       "        ...,\n",
       "        [ 0.00344639, -0.00684377,  0.0313066 , ...,  0.02332941,\n",
       "         -0.01089154,  0.02777496],\n",
       "        [ 0.01860064,  0.00833698, -0.01173914, ...,  0.01967683,\n",
       "         -0.02953144, -0.01178022],\n",
       "        [-0.0023311 ,  0.00346158,  0.00269954, ...,  0.00920143,\n",
       "         -0.03562053, -0.03415234]], dtype=float32), reduce=reduce_none),\n",
       " \"(Model).layers.(SequenceKey(idx=0), 'nn.(FlattenedIndexKey(key=1),)')\": LayerParam(Array([-0.01578693,  0.01510274, -0.00815019,  0.01473249,  0.01042687,\n",
       "         0.03170029,  0.028273  ,  0.02313706,  0.00070101,  0.02785118,\n",
       "        -0.01413033,  0.02545612,  0.02644801, -0.0266389 , -0.00359351,\n",
       "         0.03094545, -0.00287777, -0.00843532,  0.01434023,  0.03030724,\n",
       "         0.0073005 , -0.03454126,  0.02850569, -0.02381568, -0.01676337,\n",
       "         0.01183379,  0.01009331,  0.00756675, -0.00948847,  0.02623641,\n",
       "        -0.01645518, -0.0118873 , -0.01160117, -0.01953265,  0.03240589,\n",
       "        -0.00724287,  0.0223554 , -0.02176372,  0.01898606,  0.02899098,\n",
       "        -0.01418262,  0.00796278, -0.0215045 ,  0.03123183,  0.03327618,\n",
       "         0.02249454,  0.0044893 , -0.00670745,  0.02680274,  0.03298797,\n",
       "        -0.02718602, -0.0336768 ,  0.00729369, -0.03324934, -0.00831212,\n",
       "         0.0348916 ,  0.00485718, -0.02992306,  0.00305048, -0.00601454,\n",
       "        -0.01032462, -0.01036304,  0.01223341, -0.02902196, -0.00193787,\n",
       "        -0.01800277,  0.00384591,  0.00906322, -0.00353462, -0.01814787,\n",
       "        -0.02648947, -0.0212733 , -0.02330851,  0.0309968 ,  0.0022192 ,\n",
       "         0.02929807,  0.02581169, -0.00490573, -0.00438875,  0.02768372,\n",
       "         0.00624772,  0.02873209,  0.02930167,  0.02762352,  0.01786702,\n",
       "        -0.00783171,  0.02353138,  0.00999715, -0.03473429, -0.03287077,\n",
       "         0.01221991, -0.03562589,  0.03297515,  0.0278262 ,  0.03352627,\n",
       "         0.02811696, -0.03063858,  0.02591741,  0.02684442, -0.01760034,\n",
       "         0.01174044,  0.01612966, -0.01020835, -0.03197397,  0.03180863,\n",
       "         0.02016179, -0.00860556, -0.01022203, -0.00589523,  0.00080229,\n",
       "        -0.02864782, -0.00477471,  0.02661962, -0.01225807,  0.00280901,\n",
       "         0.03561927,  0.02010318, -0.02008041, -0.02513378, -0.02550173,\n",
       "        -0.02677102,  0.00755827,  0.0130424 , -0.02866186,  0.00431369,\n",
       "         0.02240621, -0.02430733,  0.02062995], dtype=float32), reduce=reduce_none),\n",
       " \"(Model).layers.(SequenceKey(idx=1), 'nn.(FlattenedIndexKey(key=0),)')\": LayerParam(Array([[ 0.0264863 , -0.04664879,  0.02105671, ..., -0.05114796,\n",
       "          0.02611743, -0.01592689],\n",
       "        [ 0.05363732,  0.00304526, -0.03604398, ..., -0.02341548,\n",
       "         -0.02659723, -0.04080573],\n",
       "        [-0.00546552, -0.07628527, -0.01342413, ...,  0.05702201,\n",
       "          0.03855927,  0.06820593],\n",
       "        ...,\n",
       "        [-0.01673502, -0.03036891, -0.08077123, ...,  0.06199778,\n",
       "         -0.01246543, -0.00591396],\n",
       "        [ 0.05969108,  0.03531299,  0.02263421, ..., -0.01664952,\n",
       "         -0.04011958,  0.00156232],\n",
       "        [ 0.00118665,  0.07800592, -0.08021256, ..., -0.03367832,\n",
       "          0.03783896, -0.00093406]], dtype=float32), reduce=reduce_none),\n",
       " \"(Model).layers.(SequenceKey(idx=1), 'nn.(FlattenedIndexKey(key=1),)')\": LayerParam(Array([ 1.88138857e-02,  6.53681979e-02,  7.86119625e-02, -6.45940304e-02,\n",
       "        -1.08932704e-03, -2.64871866e-03,  3.60299051e-02,  4.92040589e-02,\n",
       "         6.85684606e-02, -2.41868943e-02, -3.18172462e-02,  7.20511749e-02,\n",
       "        -6.61950409e-02, -5.23504093e-02, -3.43724191e-02, -2.23070383e-02,\n",
       "         4.38756719e-02, -7.86586180e-02,  1.47066787e-02, -8.68016630e-02,\n",
       "        -4.45022024e-02, -7.09077716e-02,  2.87467390e-02,  1.92684606e-02,\n",
       "        -1.98919401e-02, -9.58971679e-03, -7.72272050e-02, -3.25929150e-02,\n",
       "        -1.55006200e-02, -6.58444017e-02, -3.74245681e-02,  6.35436848e-02,\n",
       "         6.54179826e-02, -3.89404632e-02,  6.77198693e-02,  7.64071941e-03,\n",
       "        -1.44894421e-03, -1.48529559e-03, -4.16278094e-02,  8.26529786e-02,\n",
       "        -8.05275813e-02,  1.55671686e-03, -1.26435906e-02,  3.39835733e-02,\n",
       "        -7.85979480e-02,  7.90158585e-02,  2.16419995e-03,  7.02060685e-02,\n",
       "         1.06184334e-02,  2.71899253e-02, -2.94359289e-02, -2.08342001e-02,\n",
       "         7.66501501e-02, -8.30114186e-02,  2.41632760e-02, -7.78552592e-02,\n",
       "        -6.98715746e-02, -3.13470140e-02, -5.02246283e-02,  2.44514272e-02,\n",
       "         6.74760565e-02, -8.37885439e-02, -4.72134873e-02, -7.79038146e-02,\n",
       "        -4.27033976e-02, -5.99637553e-02,  7.70926103e-02,  2.19414383e-03,\n",
       "        -3.73710841e-02,  8.59054402e-02, -3.46664153e-02, -2.95253210e-02,\n",
       "        -6.22385442e-02,  7.71790817e-02, -7.51747787e-02, -5.48235252e-02,\n",
       "         2.47891098e-02,  3.74561623e-02, -7.23525435e-02,  2.18953490e-02,\n",
       "        -7.82692060e-02, -6.42314553e-05,  1.82145163e-02, -8.76381770e-02,\n",
       "         7.71722719e-02, -3.69810350e-02, -7.46222809e-02,  6.00568131e-02,\n",
       "        -7.16322362e-02, -2.64587812e-02,  4.48149964e-02,  5.12423292e-02,\n",
       "         7.53097162e-02, -3.31499092e-02,  7.00869188e-02,  4.29026261e-02,\n",
       "         2.77544186e-02, -4.63464037e-02, -2.13067457e-02,  7.07824528e-03,\n",
       "        -6.83060884e-02,  4.26049158e-02,  4.67009619e-02, -3.49285267e-02,\n",
       "        -2.38894448e-02, -2.61859223e-02, -5.84455803e-02,  7.56265968e-03,\n",
       "         3.39797586e-02,  1.53345615e-02, -7.99078122e-02, -5.55131920e-02,\n",
       "         3.84604931e-03,  2.93879211e-02,  5.22703305e-02, -8.65863562e-02,\n",
       "         3.36533710e-02, -8.33123475e-02,  5.46377823e-02, -5.94253466e-02,\n",
       "        -1.72253922e-02, -2.06559151e-02,  4.99262288e-02,  1.09460652e-02,\n",
       "        -5.43539450e-02, -5.34264594e-02,  7.07184002e-02,  1.85054988e-02],      dtype=float32), reduce=reduce_none),\n",
       " \"(Model).layers.(SequenceKey(idx=2), 'nn.(FlattenedIndexKey(key=0),)')\": LayerParam(Array([[ 0.06800135, -0.02891933,  0.05294607, ..., -0.06214572,\n",
       "          0.022545  , -0.03555862],\n",
       "        [-0.03380015,  0.0559954 , -0.04233558, ...,  0.01674751,\n",
       "         -0.04550041,  0.00380339],\n",
       "        [ 0.05463072, -0.03493879, -0.06548811, ...,  0.07940609,\n",
       "          0.0631913 ,  0.05440425],\n",
       "        ...,\n",
       "        [-0.00266159,  0.07817046,  0.04882371, ...,  0.02537535,\n",
       "          0.03373642, -0.02859881],\n",
       "        [-0.00747329,  0.0360384 ,  0.0328996 , ..., -0.05696853,\n",
       "         -0.04298905, -0.02481136],\n",
       "        [-0.01600918,  0.0302135 ,  0.0586006 , ..., -0.01239071,\n",
       "         -0.01213981, -0.0583088 ]], dtype=float32), reduce=reduce_none),\n",
       " \"(Model).layers.(SequenceKey(idx=2), 'nn.(FlattenedIndexKey(key=1),)')\": LayerParam(Array([-2.3521483e-05,  2.2024132e-02, -2.2011466e-02, -1.4722042e-02,\n",
       "         6.3470133e-02, -7.7254646e-02, -3.4118693e-02, -8.7244064e-04,\n",
       "        -4.9570531e-02, -3.2475390e-02], dtype=float32), reduce=reduce_none)}"
      ]
     },
     "execution_count": 20,
     "metadata": {},
     "output_type": "execute_result"
    }
   ],
   "source": [
    "# Create a newly randomly initialised model and copy its layer parameters to the trained model.\n",
    "px.move(\n",
    "    Model(28 * 28, params[\"hidden_dim\"], 10, 2, jax.nn.tanh).parameters().filter(px.f(px.LayerParam)),\n",
    "    model.parameters().filter(px.f(px.LayerParam))\n",
    ")"
   ]
  },
  {
   "attachments": {},
   "cell_type": "markdown",
   "metadata": {},
   "source": [
    "The main body now looks like this:"
   ]
  },
  {
   "cell_type": "code",
   "execution_count": 21,
   "metadata": {},
   "outputs": [
    {
     "name": "stdout",
     "output_type": "stream",
     "text": [
      "Compiling + Epoch 1 took 1.5790030059870332 seconds\n",
      "An Epoch takes on average 0.7215498482692055 seconds\n",
      "Final Accuracy: 0.96033657\n"
     ]
    }
   ],
   "source": [
    "if __name__ == \"__main__\":\n",
    "    t = timeit.timeit(lambda: epoch(train_dataloader, train_fn), number=1)\n",
    "    print(\"Compiling + Epoch 1 took\", t, \"seconds\")\n",
    "\n",
    "    # Time of an epoch (without jitting)\n",
    "    t = timeit.timeit(lambda: epoch(train_dataloader, train_fn), number=params[\"num_epochs\"]) / params[\"num_epochs\"]\n",
    "    print(\"An Epoch takes on average\", t, \"seconds\")\n",
    "\n",
    "    print(\"Final Accuracy:\", test(test_dataloader, test_fn))"
   ]
  },
  {
   "attachments": {},
   "cell_type": "markdown",
   "metadata": {},
   "source": [
    "The training time should be reduced by ~40%, to around ~0.7 seconds per epoch. The compiling happens again as we have to compile the newly created snapshot."
   ]
  }
 ],
 "metadata": {
  "kernelspec": {
   "display_name": "pcax",
   "language": "python",
   "name": "python3"
  },
  "language_info": {
   "codemirror_mode": {
    "name": "ipython",
    "version": 3
   },
   "file_extension": ".py",
   "mimetype": "text/x-python",
   "name": "python",
   "nbconvert_exporter": "python",
   "pygments_lexer": "ipython3",
   "version": "3.11.2"
  },
  "orig_nbformat": 4,
  "vscode": {
   "interpreter": {
    "hash": "74243c937e8313cc140bb53b53727c6bafb36702322378655a2001e9641b5eb6"
   }
  }
 },
 "nbformat": 4,
 "nbformat_minor": 2
}
